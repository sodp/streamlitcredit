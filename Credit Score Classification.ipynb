{
 "cells": [
  {
   "cell_type": "code",
   "execution_count": 1,
   "id": "e06f9c46",
   "metadata": {},
   "outputs": [],
   "source": [
    "import pandas as pd\n",
    "import numpy as np"
   ]
  },
  {
   "cell_type": "code",
   "execution_count": 2,
   "id": "bdbf8c6d",
   "metadata": {},
   "outputs": [
    {
     "name": "stdout",
     "output_type": "stream",
     "text": [
      "<class 'pandas.core.frame.DataFrame'>\n",
      "RangeIndex: 100000 entries, 0 to 99999\n",
      "Data columns (total 25 columns):\n",
      " #   Column                    Non-Null Count   Dtype  \n",
      "---  ------                    --------------   -----  \n",
      " 0   ID                        100000 non-null  object \n",
      " 1   Customer_ID               100000 non-null  object \n",
      " 2   Age                       100000 non-null  int64  \n",
      " 3   Annual_Income             100000 non-null  float64\n",
      " 4   Monthly_Inhand_Salary     100000 non-null  float64\n",
      " 5   Num_Bank_Accounts         100000 non-null  int64  \n",
      " 6   Num_Credit_Card           100000 non-null  int64  \n",
      " 7   Interest_Rate             100000 non-null  int64  \n",
      " 8   Num_of_Loan               100000 non-null  int64  \n",
      " 9   Delay_from_due_date       100000 non-null  int64  \n",
      " 10  Num_of_Delayed_Payment    100000 non-null  int64  \n",
      " 11  Changed_Credit_Limit      100000 non-null  int64  \n",
      " 12  Num_Credit_Inquiries      100000 non-null  int64  \n",
      " 13  Outstanding_Debt          100000 non-null  int64  \n",
      " 14  Credit_Utilization_Ratio  100000 non-null  float64\n",
      " 15  Total_EMI_per_month       100000 non-null  float64\n",
      " 16  Amount_invested_monthly   100000 non-null  float64\n",
      " 17  Monthly_Balance           100000 non-null  float64\n",
      " 18  Credit_History_Age        100000 non-null  int64  \n",
      " 19  Payment_of_Min_Amount_ID  100000 non-null  int64  \n",
      " 20  Payment_Behaviour_id      100000 non-null  int64  \n",
      " 21  Occupation_id             100000 non-null  int64  \n",
      " 22  Credit_Mix_ID             100000 non-null  int64  \n",
      " 23  Month_id                  100000 non-null  int64  \n",
      " 24  Credit_Score_ID           100000 non-null  int64  \n",
      "dtypes: float64(6), int64(17), object(2)\n",
      "memory usage: 19.1+ MB\n"
     ]
    }
   ],
   "source": [
    "data = pd.read_csv('FactCreditData.csv')\n",
    "data.info()"
   ]
  },
  {
   "cell_type": "code",
   "execution_count": 3,
   "id": "c9d290b7",
   "metadata": {},
   "outputs": [],
   "source": [
    "del data['ID']\n",
    "del data['Customer_ID']\n",
    "del data['Month_id']"
   ]
  },
  {
   "cell_type": "code",
   "execution_count": 4,
   "id": "dd905104",
   "metadata": {},
   "outputs": [
    {
     "data": {
      "text/html": [
       "<div>\n",
       "<style scoped>\n",
       "    .dataframe tbody tr th:only-of-type {\n",
       "        vertical-align: middle;\n",
       "    }\n",
       "\n",
       "    .dataframe tbody tr th {\n",
       "        vertical-align: top;\n",
       "    }\n",
       "\n",
       "    .dataframe thead th {\n",
       "        text-align: right;\n",
       "    }\n",
       "</style>\n",
       "<table border=\"1\" class=\"dataframe\">\n",
       "  <thead>\n",
       "    <tr style=\"text-align: right;\">\n",
       "      <th></th>\n",
       "      <th>Age</th>\n",
       "      <th>Annual_Income</th>\n",
       "      <th>Monthly_Inhand_Salary</th>\n",
       "      <th>Num_Bank_Accounts</th>\n",
       "      <th>Num_Credit_Card</th>\n",
       "      <th>Interest_Rate</th>\n",
       "      <th>Num_of_Loan</th>\n",
       "      <th>Delay_from_due_date</th>\n",
       "      <th>Num_of_Delayed_Payment</th>\n",
       "      <th>Changed_Credit_Limit</th>\n",
       "      <th>...</th>\n",
       "      <th>Credit_Utilization_Ratio</th>\n",
       "      <th>Total_EMI_per_month</th>\n",
       "      <th>Amount_invested_monthly</th>\n",
       "      <th>Monthly_Balance</th>\n",
       "      <th>Credit_History_Age</th>\n",
       "      <th>Payment_of_Min_Amount_ID</th>\n",
       "      <th>Payment_Behaviour_id</th>\n",
       "      <th>Occupation_id</th>\n",
       "      <th>Credit_Mix_ID</th>\n",
       "      <th>Credit_Score_ID</th>\n",
       "    </tr>\n",
       "  </thead>\n",
       "  <tbody>\n",
       "    <tr>\n",
       "      <th>0</th>\n",
       "      <td>23</td>\n",
       "      <td>19114.12</td>\n",
       "      <td>1824.843333</td>\n",
       "      <td>3</td>\n",
       "      <td>4</td>\n",
       "      <td>3</td>\n",
       "      <td>4</td>\n",
       "      <td>3</td>\n",
       "      <td>7</td>\n",
       "      <td>11</td>\n",
       "      <td>...</td>\n",
       "      <td>26.822620</td>\n",
       "      <td>49.574949</td>\n",
       "      <td>80.415295</td>\n",
       "      <td>312.494089</td>\n",
       "      <td>2</td>\n",
       "      <td>2</td>\n",
       "      <td>1</td>\n",
       "      <td>1</td>\n",
       "      <td>4</td>\n",
       "      <td>1</td>\n",
       "    </tr>\n",
       "    <tr>\n",
       "      <th>1</th>\n",
       "      <td>23</td>\n",
       "      <td>19114.12</td>\n",
       "      <td>4194.170850</td>\n",
       "      <td>3</td>\n",
       "      <td>4</td>\n",
       "      <td>3</td>\n",
       "      <td>4</td>\n",
       "      <td>21</td>\n",
       "      <td>31</td>\n",
       "      <td>11</td>\n",
       "      <td>...</td>\n",
       "      <td>31.944960</td>\n",
       "      <td>49.574949</td>\n",
       "      <td>118.280222</td>\n",
       "      <td>284.629163</td>\n",
       "      <td>2</td>\n",
       "      <td>2</td>\n",
       "      <td>2</td>\n",
       "      <td>1</td>\n",
       "      <td>1</td>\n",
       "      <td>1</td>\n",
       "    </tr>\n",
       "    <tr>\n",
       "      <th>2</th>\n",
       "      <td>33</td>\n",
       "      <td>19114.12</td>\n",
       "      <td>4194.170850</td>\n",
       "      <td>3</td>\n",
       "      <td>4</td>\n",
       "      <td>3</td>\n",
       "      <td>4</td>\n",
       "      <td>3</td>\n",
       "      <td>7</td>\n",
       "      <td>9</td>\n",
       "      <td>...</td>\n",
       "      <td>28.609352</td>\n",
       "      <td>49.574949</td>\n",
       "      <td>81.699521</td>\n",
       "      <td>331.209863</td>\n",
       "      <td>2</td>\n",
       "      <td>2</td>\n",
       "      <td>3</td>\n",
       "      <td>1</td>\n",
       "      <td>1</td>\n",
       "      <td>1</td>\n",
       "    </tr>\n",
       "    <tr>\n",
       "      <th>3</th>\n",
       "      <td>23</td>\n",
       "      <td>19114.12</td>\n",
       "      <td>4194.170850</td>\n",
       "      <td>3</td>\n",
       "      <td>4</td>\n",
       "      <td>3</td>\n",
       "      <td>4</td>\n",
       "      <td>5</td>\n",
       "      <td>4</td>\n",
       "      <td>6</td>\n",
       "      <td>...</td>\n",
       "      <td>31.377862</td>\n",
       "      <td>49.574949</td>\n",
       "      <td>199.458074</td>\n",
       "      <td>223.451310</td>\n",
       "      <td>2</td>\n",
       "      <td>2</td>\n",
       "      <td>4</td>\n",
       "      <td>1</td>\n",
       "      <td>1</td>\n",
       "      <td>1</td>\n",
       "    </tr>\n",
       "    <tr>\n",
       "      <th>4</th>\n",
       "      <td>23</td>\n",
       "      <td>19114.12</td>\n",
       "      <td>1824.843333</td>\n",
       "      <td>3</td>\n",
       "      <td>4</td>\n",
       "      <td>3</td>\n",
       "      <td>4</td>\n",
       "      <td>6</td>\n",
       "      <td>31</td>\n",
       "      <td>11</td>\n",
       "      <td>...</td>\n",
       "      <td>24.797347</td>\n",
       "      <td>49.574949</td>\n",
       "      <td>41.420153</td>\n",
       "      <td>341.489231</td>\n",
       "      <td>2</td>\n",
       "      <td>2</td>\n",
       "      <td>5</td>\n",
       "      <td>1</td>\n",
       "      <td>1</td>\n",
       "      <td>1</td>\n",
       "    </tr>\n",
       "  </tbody>\n",
       "</table>\n",
       "<p>5 rows × 22 columns</p>\n",
       "</div>"
      ],
      "text/plain": [
       "   Age  Annual_Income  Monthly_Inhand_Salary  Num_Bank_Accounts  \\\n",
       "0   23       19114.12            1824.843333                  3   \n",
       "1   23       19114.12            4194.170850                  3   \n",
       "2   33       19114.12            4194.170850                  3   \n",
       "3   23       19114.12            4194.170850                  3   \n",
       "4   23       19114.12            1824.843333                  3   \n",
       "\n",
       "   Num_Credit_Card  Interest_Rate  Num_of_Loan  Delay_from_due_date  \\\n",
       "0                4              3            4                    3   \n",
       "1                4              3            4                   21   \n",
       "2                4              3            4                    3   \n",
       "3                4              3            4                    5   \n",
       "4                4              3            4                    6   \n",
       "\n",
       "   Num_of_Delayed_Payment  Changed_Credit_Limit  ...  \\\n",
       "0                       7                    11  ...   \n",
       "1                      31                    11  ...   \n",
       "2                       7                     9  ...   \n",
       "3                       4                     6  ...   \n",
       "4                      31                    11  ...   \n",
       "\n",
       "   Credit_Utilization_Ratio  Total_EMI_per_month  Amount_invested_monthly  \\\n",
       "0                 26.822620            49.574949                80.415295   \n",
       "1                 31.944960            49.574949               118.280222   \n",
       "2                 28.609352            49.574949                81.699521   \n",
       "3                 31.377862            49.574949               199.458074   \n",
       "4                 24.797347            49.574949                41.420153   \n",
       "\n",
       "   Monthly_Balance  Credit_History_Age  Payment_of_Min_Amount_ID  \\\n",
       "0       312.494089                   2                         2   \n",
       "1       284.629163                   2                         2   \n",
       "2       331.209863                   2                         2   \n",
       "3       223.451310                   2                         2   \n",
       "4       341.489231                   2                         2   \n",
       "\n",
       "   Payment_Behaviour_id  Occupation_id  Credit_Mix_ID  Credit_Score_ID  \n",
       "0                     1              1              4                1  \n",
       "1                     2              1              1                1  \n",
       "2                     3              1              1                1  \n",
       "3                     4              1              1                1  \n",
       "4                     5              1              1                1  \n",
       "\n",
       "[5 rows x 22 columns]"
      ]
     },
     "execution_count": 4,
     "metadata": {},
     "output_type": "execute_result"
    }
   ],
   "source": [
    "data.head()"
   ]
  },
  {
   "cell_type": "code",
   "execution_count": 5,
   "id": "cb1c9118",
   "metadata": {},
   "outputs": [],
   "source": [
    "X = data.iloc[:, :-1]\n",
    "y = data.iloc[:, -1]"
   ]
  },
  {
   "cell_type": "code",
   "execution_count": 6,
   "id": "e48cf3a0",
   "metadata": {},
   "outputs": [
    {
     "name": "stdout",
     "output_type": "stream",
     "text": [
      "Class=1, n=17828 (17.828%)\n",
      "Class=2, n=53174 (53.174%)\n",
      "Class=3, n=28998 (28.998%)\n"
     ]
    },
    {
     "data": {
      "image/png": "[encoded data removed]",
      "text/plain": [
       "<Figure size 432x288 with 1 Axes>"
      ]
     },
     "metadata": {
      "needs_background": "light"
     },
     "output_type": "display_data"
    }
   ],
   "source": [
    "from collections import Counter\n",
    "from matplotlib import pyplot\n",
    "counter = Counter(y)\n",
    "for k,v in counter.items():\n",
    "    per = v / len(y) * 100\n",
    "    print('Class=%d, n=%d (%.3f%%)' % (k, v, per))\n",
    "# plot the distribution\n",
    "pyplot.bar(counter.keys(), counter.values())\n",
    "pyplot.show()"
   ]
  },
  {
   "cell_type": "code",
   "execution_count": 7,
   "id": "44d77973",
   "metadata": {
    "scrolled": true
   },
   "outputs": [
    {
     "name": "stdout",
     "output_type": "stream",
     "text": [
      "Class=1, n=53174 (33.333%)\n",
      "Class=2, n=53174 (33.333%)\n",
      "Class=3, n=53174 (33.333%)\n"
     ]
    },
    {
     "data": {
      "image/png": "[encoded data removed]",
      "text/plain": [
       "<Figure size 432x288 with 1 Axes>"
      ]
     },
     "metadata": {
      "needs_background": "light"
     },
     "output_type": "display_data"
    }
   ],
   "source": [
    "from pandas import read_csv\n",
    "from imblearn.over_sampling import SMOTE\n",
    "from collections import Counter\n",
    "from matplotlib import pyplot\n",
    "from sklearn.preprocessing import LabelEncoder\n",
    "\n",
    "oversample = SMOTE()\n",
    "X, y = oversample.fit_resample(X, y)\n",
    "# summarize distribution\n",
    "counter = Counter(y)\n",
    "for k,v in counter.items():\n",
    "    per = v / len(y) * 100\n",
    "    print('Class=%d, n=%d (%.3f%%)' % (k, v, per))\n",
    "# plot the distribution\n",
    "pyplot.bar(counter.keys(), counter.values())\n",
    "pyplot.show()"
   ]
  },
  {
   "cell_type": "code",
   "execution_count": 8,
   "id": "31c308c2",
   "metadata": {},
   "outputs": [],
   "source": [
    "from sklearn.model_selection import train_test_split\n",
    "X_train, X_test, Y_train, Y_test = train_test_split(X, y, test_size = 0.10, random_state = 4)"
   ]
  },
  {
   "cell_type": "code",
   "execution_count": 9,
   "id": "d4d0f749",
   "metadata": {},
   "outputs": [],
   "source": [
    "from sklearn.ensemble import RandomForestClassifier\n",
    "rf_clf = RandomForestClassifier(n_estimators=10, random_state=5)  \n",
    "rf_clf.fit(X_train, Y_train)  \n",
    "rf_predictions = rf_clf.predict(X_test)"
   ]
  },
  {
   "cell_type": "code",
   "execution_count": 10,
   "id": "931a5406",
   "metadata": {
    "scrolled": false
   },
   "outputs": [
    {
     "name": "stdout",
     "output_type": "stream",
     "text": [
      "              precision    recall  f1-score   support\n",
      "\n",
      "           1       0.82      0.92      0.87      5304\n",
      "           2       0.79      0.72      0.76      5275\n",
      "           3       0.85      0.83      0.84      5374\n",
      "\n",
      "    accuracy                           0.82     15953\n",
      "   macro avg       0.82      0.82      0.82     15953\n",
      "weighted avg       0.82      0.82      0.82     15953\n",
      "\n",
      "0.8216636369334921\n",
      "0.8199273275679387\n"
     ]
    }
   ],
   "source": [
    "from sklearn.metrics import classification_report, accuracy_score, f1_score\n",
    "print(classification_report(Y_test,rf_predictions ))  \n",
    "print(accuracy_score(Y_test, rf_predictions ))\n",
    "print(f1_score(Y_test, rf_predictions, average='weighted'))"
   ]
  },
  {
   "cell_type": "code",
   "execution_count": 11,
   "id": "3171593a",
   "metadata": {},
   "outputs": [],
   "source": [
    "import pickle\n",
    "#pickle.dump(rf_clf, open('Model.pkl','wb'))\n",
    "data = {\"model\": rf_clf}\n",
    "with open('saved_steps.pkl', 'wb') as file:\n",
    "    pickle.dump(data, file)"
   ]
  },
  {
   "cell_type": "code",
   "execution_count": 12,
   "id": "acf56661",
   "metadata": {},
   "outputs": [
    {
     "data": {
      "text/plain": [
       "{'model': RandomForestClassifier(n_estimators=10, random_state=5)}"
      ]
     },
     "execution_count": 12,
     "metadata": {},
     "output_type": "execute_result"
    }
   ],
   "source": [
    "\n",
    "def load_model():\n",
    "    with open(r\"C:\\Users\\Siddhant.Panda\\Desktop\\MiniProject\\ML\\saved_steps.pkl\", 'rb') as file:\n",
    "        data = pickle.load(file)\n",
    "    return data\n",
    "\n",
    "load_model() "
   ]
  },
  {
   "cell_type": "code",
   "execution_count": 49,
   "id": "bf5905b7",
   "metadata": {},
   "outputs": [
    {
     "data": {
      "text/plain": [
       "\"\\ndef load_model():\\n    with open('RandomForestModel.pkl', 'rb') as file:\\n        data = pickle.load(file)\\n    return load_model()\\n\""
      ]
     },
     "execution_count": 49,
     "metadata": {},
     "output_type": "execute_result"
    }
   ],
   "source": [
    "pickle.dump(rf_clf, open('RandomForestModel.pkl','wb'))\n",
    "'''\n",
    "ofile = bz2.BZ2File(\"BinaryData\",'wb')\n",
    "pickle.dump(rf_clf,ofile)\n",
    "ofile.close()\n",
    "'''\n",
    "'''\n",
    "def load_model():\n",
    "    with open('RandomForestModel.pkl', 'rb') as file:\n",
    "        data = pickle.load(file)\n",
    "    return load_model()\n",
    "'''"
   ]
  },
  {
   "cell_type": "code",
   "execution_count": 16,
   "id": "107523ae",
   "metadata": {},
   "outputs": [
    {
     "name": "stdout",
     "output_type": "stream",
     "text": [
      "Learning rate set to 0.5\n",
      "0:\tlearn: 0.8616115\ttotal: 246ms\tremaining: 24.4s\n",
      "1:\tlearn: 0.7730382\ttotal: 356ms\tremaining: 17.4s\n",
      "2:\tlearn: 0.7358386\ttotal: 440ms\tremaining: 14.2s\n",
      "3:\tlearn: 0.7169709\ttotal: 524ms\tremaining: 12.6s\n",
      "4:\tlearn: 0.6965211\ttotal: 605ms\tremaining: 11.5s\n",
      "5:\tlearn: 0.6909595\ttotal: 674ms\tremaining: 10.6s\n",
      "6:\tlearn: 0.6842213\ttotal: 753ms\tremaining: 10s\n",
      "7:\tlearn: 0.6780916\ttotal: 841ms\tremaining: 9.68s\n",
      "8:\tlearn: 0.6728668\ttotal: 938ms\tremaining: 9.48s\n",
      "9:\tlearn: 0.6683980\ttotal: 1.05s\tremaining: 9.43s\n",
      "10:\tlearn: 0.6634212\ttotal: 1.12s\tremaining: 9.1s\n",
      "11:\tlearn: 0.6593341\ttotal: 1.19s\tremaining: 8.7s\n",
      "12:\tlearn: 0.6544953\ttotal: 1.26s\tremaining: 8.44s\n",
      "13:\tlearn: 0.6512291\ttotal: 1.38s\tremaining: 8.5s\n",
      "14:\tlearn: 0.6493197\ttotal: 1.47s\tremaining: 8.34s\n",
      "15:\tlearn: 0.6475652\ttotal: 1.52s\tremaining: 7.99s\n",
      "16:\tlearn: 0.6450766\ttotal: 1.62s\tremaining: 7.89s\n",
      "17:\tlearn: 0.6428129\ttotal: 1.77s\tremaining: 8.08s\n",
      "18:\tlearn: 0.6405575\ttotal: 1.87s\tremaining: 7.99s\n",
      "19:\tlearn: 0.6376426\ttotal: 2.01s\tremaining: 8.03s\n",
      "20:\tlearn: 0.6354133\ttotal: 2.1s\tremaining: 7.9s\n",
      "21:\tlearn: 0.6342880\ttotal: 2.19s\tremaining: 7.77s\n",
      "22:\tlearn: 0.6322152\ttotal: 2.32s\tremaining: 7.76s\n",
      "23:\tlearn: 0.6303158\ttotal: 2.4s\tremaining: 7.61s\n",
      "24:\tlearn: 0.6279574\ttotal: 2.5s\tremaining: 7.51s\n",
      "25:\tlearn: 0.6261664\ttotal: 2.62s\tremaining: 7.44s\n",
      "26:\tlearn: 0.6234599\ttotal: 2.74s\tremaining: 7.41s\n",
      "27:\tlearn: 0.6216667\ttotal: 2.85s\tremaining: 7.32s\n",
      "28:\tlearn: 0.6199575\ttotal: 2.96s\tremaining: 7.24s\n",
      "29:\tlearn: 0.6181521\ttotal: 3.06s\tremaining: 7.14s\n",
      "30:\tlearn: 0.6170345\ttotal: 3.15s\tremaining: 7.01s\n",
      "31:\tlearn: 0.6159529\ttotal: 3.24s\tremaining: 6.89s\n",
      "32:\tlearn: 0.6149395\ttotal: 3.33s\tremaining: 6.77s\n",
      "33:\tlearn: 0.6131701\ttotal: 3.43s\tremaining: 6.65s\n",
      "34:\tlearn: 0.6122829\ttotal: 3.53s\tremaining: 6.55s\n",
      "35:\tlearn: 0.6109753\ttotal: 3.61s\tremaining: 6.42s\n",
      "36:\tlearn: 0.6096592\ttotal: 3.71s\tremaining: 6.32s\n",
      "37:\tlearn: 0.6083882\ttotal: 3.81s\tremaining: 6.22s\n",
      "38:\tlearn: 0.6070871\ttotal: 3.89s\tremaining: 6.08s\n",
      "39:\tlearn: 0.6053865\ttotal: 3.98s\tremaining: 5.98s\n",
      "40:\tlearn: 0.6043534\ttotal: 4.07s\tremaining: 5.86s\n",
      "41:\tlearn: 0.6024806\ttotal: 4.22s\tremaining: 5.83s\n",
      "42:\tlearn: 0.6012437\ttotal: 4.37s\tremaining: 5.8s\n",
      "43:\tlearn: 0.6003398\ttotal: 4.49s\tremaining: 5.71s\n",
      "44:\tlearn: 0.5986793\ttotal: 4.6s\tremaining: 5.62s\n",
      "45:\tlearn: 0.5981057\ttotal: 4.67s\tremaining: 5.48s\n",
      "46:\tlearn: 0.5966481\ttotal: 4.76s\tremaining: 5.37s\n",
      "47:\tlearn: 0.5962165\ttotal: 4.85s\tremaining: 5.25s\n",
      "48:\tlearn: 0.5939601\ttotal: 4.93s\tremaining: 5.13s\n",
      "49:\tlearn: 0.5928787\ttotal: 5.03s\tremaining: 5.03s\n",
      "50:\tlearn: 0.5921194\ttotal: 5.15s\tremaining: 4.95s\n",
      "51:\tlearn: 0.5914243\ttotal: 5.27s\tremaining: 4.86s\n",
      "52:\tlearn: 0.5906867\ttotal: 5.37s\tremaining: 4.76s\n",
      "53:\tlearn: 0.5895458\ttotal: 5.46s\tremaining: 4.65s\n",
      "54:\tlearn: 0.5882862\ttotal: 5.55s\tremaining: 4.54s\n",
      "55:\tlearn: 0.5875626\ttotal: 5.63s\tremaining: 4.42s\n",
      "56:\tlearn: 0.5867179\ttotal: 5.72s\tremaining: 4.32s\n",
      "57:\tlearn: 0.5858402\ttotal: 5.82s\tremaining: 4.22s\n",
      "58:\tlearn: 0.5853059\ttotal: 5.9s\tremaining: 4.1s\n",
      "59:\tlearn: 0.5844065\ttotal: 6s\tremaining: 4s\n",
      "60:\tlearn: 0.5831890\ttotal: 6.1s\tremaining: 3.9s\n",
      "61:\tlearn: 0.5820203\ttotal: 6.19s\tremaining: 3.79s\n",
      "62:\tlearn: 0.5812898\ttotal: 6.29s\tremaining: 3.7s\n",
      "63:\tlearn: 0.5803877\ttotal: 6.38s\tremaining: 3.59s\n",
      "64:\tlearn: 0.5789112\ttotal: 6.46s\tremaining: 3.48s\n",
      "65:\tlearn: 0.5784940\ttotal: 6.55s\tremaining: 3.37s\n",
      "66:\tlearn: 0.5772199\ttotal: 6.61s\tremaining: 3.25s\n",
      "67:\tlearn: 0.5758928\ttotal: 6.66s\tremaining: 3.13s\n",
      "68:\tlearn: 0.5745619\ttotal: 6.74s\tremaining: 3.03s\n",
      "69:\tlearn: 0.5739658\ttotal: 6.81s\tremaining: 2.92s\n",
      "70:\tlearn: 0.5728608\ttotal: 6.88s\tremaining: 2.81s\n",
      "71:\tlearn: 0.5721617\ttotal: 6.95s\tremaining: 2.7s\n",
      "72:\tlearn: 0.5709281\ttotal: 7.01s\tremaining: 2.59s\n",
      "73:\tlearn: 0.5700011\ttotal: 7.06s\tremaining: 2.48s\n",
      "74:\tlearn: 0.5690272\ttotal: 7.12s\tremaining: 2.37s\n",
      "75:\tlearn: 0.5685689\ttotal: 7.24s\tremaining: 2.29s\n",
      "76:\tlearn: 0.5676337\ttotal: 7.39s\tremaining: 2.21s\n",
      "77:\tlearn: 0.5661376\ttotal: 7.51s\tremaining: 2.12s\n",
      "78:\tlearn: 0.5644654\ttotal: 7.62s\tremaining: 2.02s\n",
      "79:\tlearn: 0.5638597\ttotal: 7.71s\tremaining: 1.93s\n",
      "80:\tlearn: 0.5631368\ttotal: 7.82s\tremaining: 1.83s\n",
      "81:\tlearn: 0.5628429\ttotal: 7.93s\tremaining: 1.74s\n",
      "82:\tlearn: 0.5620366\ttotal: 8.04s\tremaining: 1.65s\n",
      "83:\tlearn: 0.5609640\ttotal: 8.15s\tremaining: 1.55s\n",
      "84:\tlearn: 0.5599921\ttotal: 8.25s\tremaining: 1.46s\n",
      "85:\tlearn: 0.5590019\ttotal: 8.39s\tremaining: 1.36s\n",
      "86:\tlearn: 0.5585684\ttotal: 8.49s\tremaining: 1.27s\n",
      "87:\tlearn: 0.5574872\ttotal: 8.59s\tremaining: 1.17s\n",
      "88:\tlearn: 0.5568336\ttotal: 8.69s\tremaining: 1.07s\n",
      "89:\tlearn: 0.5557740\ttotal: 8.8s\tremaining: 977ms\n",
      "90:\tlearn: 0.5548482\ttotal: 8.9s\tremaining: 880ms\n",
      "91:\tlearn: 0.5537440\ttotal: 9.01s\tremaining: 783ms\n",
      "92:\tlearn: 0.5530441\ttotal: 9.12s\tremaining: 687ms\n",
      "93:\tlearn: 0.5520803\ttotal: 9.22s\tremaining: 589ms\n",
      "94:\tlearn: 0.5515637\ttotal: 9.31s\tremaining: 490ms\n",
      "95:\tlearn: 0.5505307\ttotal: 9.41s\tremaining: 392ms\n",
      "96:\tlearn: 0.5495374\ttotal: 9.51s\tremaining: 294ms\n",
      "97:\tlearn: 0.5490444\ttotal: 9.6s\tremaining: 196ms\n",
      "98:\tlearn: 0.5486784\ttotal: 9.7s\tremaining: 98ms\n",
      "99:\tlearn: 0.5481323\ttotal: 9.9s\tremaining: 0us\n"
     ]
    }
   ],
   "source": [
    "from catboost import CatBoostClassifier\n",
    "model = CatBoostClassifier(n_estimators=100)\n",
    "model.fit(X_train, Y_train)\n",
    "rf_predictions = model.predict(X_test)"
   ]
  },
  {
   "cell_type": "code",
   "execution_count": 17,
   "id": "580e2ad7",
   "metadata": {},
   "outputs": [
    {
     "name": "stdout",
     "output_type": "stream",
     "text": [
      "              precision    recall  f1-score   support\n",
      "\n",
      "           1       0.77      0.85      0.81     16078\n",
      "           2       0.73      0.67      0.70     15795\n",
      "           3       0.79      0.78      0.78     15984\n",
      "\n",
      "    accuracy                           0.77     47857\n",
      "   macro avg       0.77      0.77      0.76     47857\n",
      "weighted avg       0.77      0.77      0.76     47857\n",
      "\n",
      "0.7659903462398395\n",
      "0.764279839759769\n"
     ]
    }
   ],
   "source": [
    "from sklearn.metrics import classification_report, accuracy_score, f1_score\n",
    "print(classification_report(Y_test,rf_predictions ))  \n",
    "print(accuracy_score(Y_test, rf_predictions ))\n",
    "print(f1_score(Y_test, rf_predictions, average='weighted'))"
   ]
  },
  {
   "cell_type": "code",
   "execution_count": 12,
   "id": "241be588",
   "metadata": {},
   "outputs": [
    {
     "data": {
      "text/html": [
       "        <script type=\"text/javascript\">\n",
       "        window.PlotlyConfig = {MathJaxConfig: 'local'};\n",
       "        if (window.MathJax) {MathJax.Hub.Config({SVG: {font: \"STIX-Web\"}});}\n",
       "        if (typeof require !== 'undefined') {\n",
       "        require.undef(\"plotly\");\n",
       "        requirejs.config({\n",
       "            paths: {\n",
       "                'plotly': ['https://cdn.plot.ly/plotly-2.9.0.min']\n",
       "            }\n",
       "        });\n",
       "        require(['plotly'], function(Plotly) {\n",
       "            window._Plotly = Plotly;\n",
       "        });\n",
       "        }\n",
       "        </script>\n",
       "        "
      ]
     },
     "metadata": {},
     "output_type": "display_data"
    }
   ],
   "source": [
    "from pandas import set_option\n",
    "from pandas.plotting import scatter_matrix\n",
    "from sklearn.preprocessing import StandardScaler\n",
    "from sklearn.model_selection import train_test_split\n",
    "from sklearn.model_selection import KFold\n",
    "from sklearn.model_selection import StratifiedKFold\n",
    "from sklearn.model_selection import cross_val_score\n",
    "from sklearn.model_selection import GridSearchCV\n",
    "from sklearn.metrics import classification_report\n",
    "from sklearn.metrics import confusion_matrix\n",
    "from sklearn.metrics import accuracy_score\n",
    "from sklearn.pipeline import Pipeline\n",
    "from sklearn.linear_model import LogisticRegression\n",
    "from sklearn.tree import DecisionTreeClassifier\n",
    "from sklearn.neighbors import KNeighborsClassifier\n",
    "from sklearn.discriminant_analysis import LinearDiscriminantAnalysis\n",
    "from sklearn.naive_bayes import GaussianNB\n",
    "from sklearn.svm import SVC\n",
    "from sklearn.ensemble import AdaBoostClassifier\n",
    "from sklearn.ensemble import GradientBoostingClassifier\n",
    "from sklearn.ensemble import RandomForestClassifier\n",
    "from sklearn.ensemble import ExtraTreesClassifier\n",
    "import plotly.offline as py\n",
    "import plotly.graph_objs as go\n",
    "import plotly.tools as tls\n",
    "py.init_notebook_mode(connected=True)\n",
    "import warnings\n",
    "warnings.filterwarnings('ignore')"
   ]
  },
  {
   "cell_type": "code",
   "execution_count": 12,
   "id": "a3da9949",
   "metadata": {},
   "outputs": [],
   "source": [
    "def GetBasedModel():\n",
    "    basedModels = []\n",
    "    basedModels.append(('LR'   , LogisticRegression()))\n",
    "    basedModels.append(('LDA'  , LinearDiscriminantAnalysis()))\n",
    "    basedModels.append(('KNN'  , KNeighborsClassifier()))\n",
    "    basedModels.append(('CART' , DecisionTreeClassifier()))\n",
    "    basedModels.append(('NB'   , GaussianNB()))\n",
    "    #basedModels.append(('SVM'  , SVC(probability=True)))\n",
    "    basedModels.append(('AB'   , AdaBoostClassifier()))\n",
    "    #basedModels.append(('GBM'  , GradientBoostingClassifier()))\n",
    "    basedModels.append(('RF'   , RandomForestClassifier()))\n",
    "    basedModels.append(('ET'   , ExtraTreesClassifier()))\n",
    "    return basedModels"
   ]
  },
  {
   "cell_type": "code",
   "execution_count": 13,
   "id": "45000a72",
   "metadata": {},
   "outputs": [],
   "source": [
    "def BasedLine2(X_train, y_train,models):\n",
    "    # Test options and evaluation metric\n",
    "    num_folds = 10\n",
    "    scoring = 'accuracy'\n",
    "\n",
    "    results = []\n",
    "    names = []\n",
    "    for name, model in models:\n",
    "        kfold = StratifiedKFold(n_splits=num_folds, random_state=None)\n",
    "        cv_results = cross_val_score(model, X_train, Y_train, cv=kfold, scoring=scoring)\n",
    "        results.append(cv_results)\n",
    "        names.append(name)\n",
    "        msg = \"%s: %f (%f)\" % (name, cv_results.mean(), cv_results.std())\n",
    "        print(msg)\n",
    "        \n",
    "    return names, results"
   ]
  },
  {
   "cell_type": "code",
   "execution_count": 14,
   "id": "e9676dc2",
   "metadata": {},
   "outputs": [],
   "source": [
    "class PlotBoxR(object):\n",
    "    \n",
    "    def __Trace(self,nameOfFeature,value): \n",
    "    \n",
    "        trace = go.Box(\n",
    "            y=value,\n",
    "            name = nameOfFeature,\n",
    "            marker = dict(\n",
    "                color = 'rgb(0, 128, 128)',\n",
    "            )\n",
    "        )\n",
    "        return trace\n",
    "\n",
    "    def PlotResult(self,names,results):\n",
    "        \n",
    "        data = []\n",
    "\n",
    "        for i in range(len(names)):\n",
    "            data.append(self.__Trace(names[i],results[i]))\n",
    "\n",
    "\n",
    "        py.iplot(data)"
   ]
  },
  {
   "cell_type": "code",
   "execution_count": null,
   "id": "c0449706",
   "metadata": {},
   "outputs": [
    {
     "name": "stdout",
     "output_type": "stream",
     "text": [
      "LR: 0.507249 (0.003743)\n",
      "LDA: 0.665893 (0.004579)\n",
      "KNN: 0.754408 (0.004102)\n",
      "CART: 0.731706 (0.003799)\n",
      "NB: 0.545148 (0.002023)\n",
      "AB: 0.703900 (0.004216)\n"
     ]
    }
   ],
   "source": [
    "models = GetBasedModel()\n",
    "names,results = BasedLine2(X_train, Y_train,models)\n",
    "PlotBoxR().PlotResult(names,results)"
   ]
  }
 ],
 "metadata": {
  "kernelspec": {
   "display_name": "Python 3 (ipykernel)",
   "language": "python",
   "name": "python3"
  },
  "language_info": {
   "codemirror_mode": {
    "name": "ipython",
    "version": 3
   },
   "file_extension": ".py",
   "mimetype": "text/x-python",
   "name": "python",
   "nbconvert_exporter": "python",
   "pygments_lexer": "ipython3",
   "version": "3.9.12"
  }
 },
 "nbformat": 4,
 "nbformat_minor": 5
}
